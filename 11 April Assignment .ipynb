{
 "cells": [
  {
   "cell_type": "code",
   "execution_count": null,
   "id": "d9b9d673-14b8-4e37-be1e-f400c0da726f",
   "metadata": {},
   "outputs": [],
   "source": [
    "Q1. What is an ensemble technique in machine learning?"
   ]
  },
  {
   "cell_type": "markdown",
   "id": "108ae576-2328-4e9e-90e8-7b809a721703",
   "metadata": {},
   "source": [
    "ANS -"
   ]
  },
  {
   "cell_type": "code",
   "execution_count": null,
   "id": "151318ec-3160-488e-a924-612cb8ca071e",
   "metadata": {},
   "outputs": [],
   "source": [
    "Ensemble methods are a family of techniques that combine multiple models to improve their overall performance. \n",
    "There are three main classes of ensemble learning methods: bagging, stacking, and boosting. \n",
    "The main principle of ensemble methods is to combine weak and strong learners to form strong and versatile learners.\n",
    "Ensemble methods can be used for both classification and regression problems. \n",
    "Ensemble methods are learning algorithms that construct a set of classifiers and then classify new data points by taking a (weighted) \n",
    "vote of their predictions.\n",
    "An ensemble is a machine learning model that combines the predictions from two or more models."
   ]
  },
  {
   "cell_type": "code",
   "execution_count": null,
   "id": "7e72cc23-e027-47a5-9f1c-1033a115d596",
   "metadata": {},
   "outputs": [],
   "source": []
  },
  {
   "cell_type": "code",
   "execution_count": null,
   "id": "c94aed6d-da14-4ddc-b4de-ffb4e1087783",
   "metadata": {},
   "outputs": [],
   "source": [
    "Q2. Why are ensemble techniques used in machine learning?"
   ]
  },
  {
   "cell_type": "markdown",
   "id": "957957f6-a0e7-473c-9425-9151fcee433c",
   "metadata": {},
   "source": [
    "ANS -"
   ]
  },
  {
   "cell_type": "code",
   "execution_count": null,
   "id": "e7e59a68-d0f5-41ff-adae-29fe2b209a4b",
   "metadata": {},
   "outputs": [],
   "source": [
    "Ensemble methods are used in machine learning to improve the accuracy of a model. Ensemble methods are a family of techniques that \n",
    "combine multiple models to improve their overall performance. There are three main classes of ensemble learning methods: bagging, stacking,\n",
    "and boosting. The main principle of ensemble methods is to combine weak and strong learners to form strong and versatile learners. \n",
    "Ensemble methods can be used for both classification and regression problems. Ensemble methods are learning algorithms that construct \n",
    "a set of classifiers and then classify new data points by taking a (weighted) vote of their predictions. An ensemble is a \n",
    "machine learning model that combines the predictions from two or more model."
   ]
  },
  {
   "cell_type": "code",
   "execution_count": null,
   "id": "da543a0a-6e17-4c8d-a551-f7aa3a1c12f7",
   "metadata": {},
   "outputs": [],
   "source": []
  },
  {
   "cell_type": "code",
   "execution_count": null,
   "id": "982d17dd-ba00-4746-b464-27c3a854bf6d",
   "metadata": {},
   "outputs": [],
   "source": [
    "Q3. What is bagging?"
   ]
  },
  {
   "cell_type": "markdown",
   "id": "e6013015-1266-42c0-b172-a29299a82cd6",
   "metadata": {},
   "source": [
    "ANS -"
   ]
  },
  {
   "cell_type": "code",
   "execution_count": null,
   "id": "50cf8c3c-4758-4f05-bd56-ea4e6b13e58e",
   "metadata": {},
   "outputs": [],
   "source": [
    "Bagging, also known as Bootstrap aggregating, is an ensemble learning technique that helps to improve the performance\n",
    "and accuracy of machine learning algorithms. It is used to deal with bias-variance trade-offs and reduces the variance \n",
    "of a prediction model."
   ]
  },
  {
   "cell_type": "code",
   "execution_count": null,
   "id": "6d7d97c0-39c4-43e2-8657-bc6e421794cd",
   "metadata": {},
   "outputs": [],
   "source": []
  },
  {
   "cell_type": "code",
   "execution_count": null,
   "id": "c98749d0-dbb9-451f-83c8-8dbf481994ed",
   "metadata": {},
   "outputs": [],
   "source": [
    "Q4. What is boosting?"
   ]
  },
  {
   "cell_type": "markdown",
   "id": "747e9ccd-49ad-40cd-a20e-cab002122a09",
   "metadata": {},
   "source": [
    "ANS -"
   ]
  },
  {
   "cell_type": "code",
   "execution_count": null,
   "id": "58c36ea4-3c35-4bcc-9fab-5b82525c721b",
   "metadata": {},
   "outputs": [],
   "source": [
    "Boosting is an ensemble modeling technique that attempts to build a strong classifier from the number of weak classifiers. \n",
    "It is done by building a model by using weak models in series. Firstly, a model is built from the training data. \n",
    "Then the second model is built which tries to correct the errors present in the first model. \n",
    "This procedure is continued and models are added until either the complete training data set is predicted correctly or the maximum\n",
    "number of models are added. "
   ]
  },
  {
   "cell_type": "code",
   "execution_count": null,
   "id": "f2b72867-aaf5-4dd2-91cc-fef2752bc858",
   "metadata": {},
   "outputs": [],
   "source": []
  },
  {
   "cell_type": "code",
   "execution_count": null,
   "id": "571b60de-0d52-454d-865b-66afe9a5f996",
   "metadata": {},
   "outputs": [],
   "source": [
    "Q5. What are the benefits of using ensemble techniques?"
   ]
  },
  {
   "cell_type": "markdown",
   "id": "c9f69ddf-2b48-4fb5-9227-40f63e3190b7",
   "metadata": {},
   "source": [
    "ANS -"
   ]
  },
  {
   "cell_type": "code",
   "execution_count": null,
   "id": "bb4072b3-1eab-45ff-963b-eed5a1954091",
   "metadata": {},
   "outputs": [],
   "source": [
    "Ensemble techniques have two main advantages:\n",
    "\n",
    "1.Performance: An ensemble can make better predictions and achieve better performance than any single contributing model.\n",
    "2.Robustness: An ensemble reduces the spread or dispersion of the predictions and model performance.\n",
    "\n",
    "Ensemble methods are ideal for regression and classification, where they reduce bias and variance to boost the accuracy of models"
   ]
  },
  {
   "cell_type": "code",
   "execution_count": null,
   "id": "3aca54bc-5c85-4190-9024-43bf9abed732",
   "metadata": {},
   "outputs": [],
   "source": []
  },
  {
   "cell_type": "code",
   "execution_count": null,
   "id": "6e4ee8a3-374b-4c9f-a82f-7d54bf550bd9",
   "metadata": {},
   "outputs": [],
   "source": [
    "Q6. Are ensemble techniques always better than individual models?"
   ]
  },
  {
   "cell_type": "markdown",
   "id": "fd7e9076-7093-462c-a4cf-93ef225b5840",
   "metadata": {},
   "source": [
    "ANS -"
   ]
  },
  {
   "cell_type": "code",
   "execution_count": null,
   "id": "d2bcf7fc-f35e-492d-8109-75e755d56e83",
   "metadata": {},
   "outputs": [],
   "source": [
    "Ensemble techniques are not always better than individual models. However, ensembles can make better predictions and achieve \n",
    "better performance than any single contributing model. They can create lower variance and lower bias, and create a deeper \n",
    "understanding of the data. Ensembles are an efficient way to improve model accuracy and help to address complex challenges\n",
    "in machine learning such as class imbalance, concept drift, and the curse of dimension. An ensemble is potentially more robust \n",
    "and accurate than its individual base models."
   ]
  },
  {
   "cell_type": "code",
   "execution_count": null,
   "id": "11b5cd3a-bf6a-43bf-a96b-9972c02aa0b5",
   "metadata": {},
   "outputs": [],
   "source": []
  },
  {
   "cell_type": "code",
   "execution_count": null,
   "id": "003e0c9b-c26a-4471-9a03-46a00088d489",
   "metadata": {},
   "outputs": [],
   "source": [
    "Q7. How is the confidence interval calculated using bootstrap?"
   ]
  },
  {
   "cell_type": "markdown",
   "id": "52287abf-9511-4429-a8c6-27410dbc9c54",
   "metadata": {},
   "source": [
    "ANS -"
   ]
  },
  {
   "cell_type": "code",
   "execution_count": null,
   "id": "b897c473-489a-4cfe-b1f9-fba7dea1b51b",
   "metadata": {},
   "outputs": [],
   "source": [
    "The confidence interval can be calculated using bootstrap by following these steps¹:\n",
    "\n",
    "1. Start with resampling with replacement from original data n times.\n",
    "2. For each bootstrap calculate mean x*, sort them from smallest to biggest.\n",
    "3. Choose x*1 as the 10th percentile, x*9 as the 90th percentile of sorted list of x*, which gives an 80% confidence interval of \n",
    "   [x*1, x*9].\n",
    "\n"
   ]
  },
  {
   "cell_type": "code",
   "execution_count": null,
   "id": "1409fe4e-0be4-453a-93c2-0c227552d95f",
   "metadata": {},
   "outputs": [],
   "source": []
  },
  {
   "cell_type": "code",
   "execution_count": null,
   "id": "c82ee07e-6b17-47cb-9834-eed844dba326",
   "metadata": {},
   "outputs": [],
   "source": [
    "Q8. How does bootstrap work and What are the steps involved in bootstrap?"
   ]
  },
  {
   "cell_type": "markdown",
   "id": "fc35af44-f3a0-41b0-9a24-6df3972029f6",
   "metadata": {},
   "source": [
    "ANS -"
   ]
  },
  {
   "cell_type": "code",
   "execution_count": null,
   "id": "25caec86-6cf9-4470-9940-1f4676132dfb",
   "metadata": {},
   "outputs": [],
   "source": [
    "Bootstrap is a free and open-source CSS framework directed at responsive, mobile-first front-end web development.\n",
    "It contains CSS- and (optionally) JavaScript-based design templates for typography, forms, buttons, navigation,\n",
    "and other interface components. Bootstrap is designed to help developers build responsive websites quickly and easily. \n",
    "\n",
    "Here are the steps involved in using Bootstrap:\n",
    "\n",
    "1.Download and install Bootstrap from its official web page.\n",
    "2.Learn how to code.\n",
    "3.Get a template.\n",
    "4.Add elements to the template.\n",
    "5.Run a linter tool."
   ]
  },
  {
   "cell_type": "code",
   "execution_count": null,
   "id": "7b349839-2c69-4b9d-8adb-b6ee77edd39f",
   "metadata": {},
   "outputs": [],
   "source": []
  },
  {
   "cell_type": "code",
   "execution_count": null,
   "id": "175bf615-1df0-4f52-8c80-ff5bb44f71cf",
   "metadata": {},
   "outputs": [],
   "source": [
    "Q9. A researcher wants to estimate the mean height of a population of trees. They measure the height of a\n",
    "sample of 50 trees and obtain a mean height of 15 meters and a standard deviation of 2 meters. Use\n",
    "bootstrap to estimate the 95% confidence interval for the population mean height."
   ]
  },
  {
   "cell_type": "markdown",
   "id": "cb8139d2-10ca-4913-928f-67530416a792",
   "metadata": {},
   "source": [
    "ANS -"
   ]
  },
  {
   "cell_type": "code",
   "execution_count": null,
   "id": "eb860e3b-98f6-48b7-a748-7959a1fd6f35",
   "metadata": {},
   "outputs": [],
   "source": []
  },
  {
   "cell_type": "code",
   "execution_count": null,
   "id": "6ecf69e4-5fb8-4ea2-baee-fe7494854cfe",
   "metadata": {},
   "outputs": [],
   "source": []
  },
  {
   "cell_type": "code",
   "execution_count": null,
   "id": "61a16da9-e742-4118-9e1d-cc517c7734a1",
   "metadata": {},
   "outputs": [],
   "source": []
  },
  {
   "cell_type": "code",
   "execution_count": null,
   "id": "12ff5998-b049-4f99-b6f3-e15c59b1c51e",
   "metadata": {},
   "outputs": [],
   "source": []
  },
  {
   "cell_type": "code",
   "execution_count": null,
   "id": "2cee1be1-6b69-4892-911e-c551d0534d53",
   "metadata": {},
   "outputs": [],
   "source": []
  },
  {
   "cell_type": "code",
   "execution_count": null,
   "id": "b5cbd615-1a38-484c-8227-c216f40a2e15",
   "metadata": {},
   "outputs": [],
   "source": []
  },
  {
   "cell_type": "code",
   "execution_count": null,
   "id": "8d0567e6-8418-40c4-be0c-cbfb77612d93",
   "metadata": {},
   "outputs": [],
   "source": []
  },
  {
   "cell_type": "code",
   "execution_count": null,
   "id": "a6351f9e-f77a-455f-828a-e5038c3043e9",
   "metadata": {},
   "outputs": [],
   "source": []
  },
  {
   "cell_type": "code",
   "execution_count": null,
   "id": "c6f01b26-69c1-462f-8eff-94706ee1ab16",
   "metadata": {},
   "outputs": [],
   "source": []
  },
  {
   "cell_type": "code",
   "execution_count": null,
   "id": "aad61188-16df-4041-bc27-c30f6b123985",
   "metadata": {},
   "outputs": [],
   "source": []
  },
  {
   "cell_type": "code",
   "execution_count": null,
   "id": "478cb7f6-f7aa-48d0-962b-e140ace30720",
   "metadata": {},
   "outputs": [],
   "source": []
  },
  {
   "cell_type": "code",
   "execution_count": null,
   "id": "0c028ef4-6a02-4302-b80d-eb47e2cd0c27",
   "metadata": {},
   "outputs": [],
   "source": []
  },
  {
   "cell_type": "code",
   "execution_count": null,
   "id": "e8e6a295-867d-4737-ac3b-368c25264cfc",
   "metadata": {},
   "outputs": [],
   "source": []
  },
  {
   "cell_type": "code",
   "execution_count": null,
   "id": "8420042f-8c63-4650-ad88-9ce0587655e9",
   "metadata": {},
   "outputs": [],
   "source": []
  },
  {
   "cell_type": "code",
   "execution_count": null,
   "id": "fab6bbbb-4e68-4f49-8f69-f052ca2d1e87",
   "metadata": {},
   "outputs": [],
   "source": []
  },
  {
   "cell_type": "code",
   "execution_count": null,
   "id": "a740c412-3ffc-4914-92d0-614f82b68a1c",
   "metadata": {},
   "outputs": [],
   "source": []
  },
  {
   "cell_type": "code",
   "execution_count": null,
   "id": "6d032b1c-3c52-46ae-a3f4-661ee7783cb9",
   "metadata": {},
   "outputs": [],
   "source": []
  },
  {
   "cell_type": "code",
   "execution_count": null,
   "id": "a9c96ae4-d699-496e-ba2f-6d8f47531560",
   "metadata": {},
   "outputs": [],
   "source": []
  },
  {
   "cell_type": "code",
   "execution_count": null,
   "id": "0ca473cf-f68b-4305-b839-bba3e93d6263",
   "metadata": {},
   "outputs": [],
   "source": []
  },
  {
   "cell_type": "code",
   "execution_count": null,
   "id": "1bf82e6d-a5e7-4a05-b9fb-8de32966d9bd",
   "metadata": {},
   "outputs": [],
   "source": []
  },
  {
   "cell_type": "code",
   "execution_count": null,
   "id": "86c50fc7-4943-4209-b9d1-7ce98fdb8885",
   "metadata": {},
   "outputs": [],
   "source": []
  },
  {
   "cell_type": "code",
   "execution_count": null,
   "id": "5d00e089-77df-46ee-b67f-976a57027111",
   "metadata": {},
   "outputs": [],
   "source": []
  }
 ],
 "metadata": {
  "kernelspec": {
   "display_name": "Python 3 (ipykernel)",
   "language": "python",
   "name": "python3"
  },
  "language_info": {
   "codemirror_mode": {
    "name": "ipython",
    "version": 3
   },
   "file_extension": ".py",
   "mimetype": "text/x-python",
   "name": "python",
   "nbconvert_exporter": "python",
   "pygments_lexer": "ipython3",
   "version": "3.10.8"
  }
 },
 "nbformat": 4,
 "nbformat_minor": 5
}
